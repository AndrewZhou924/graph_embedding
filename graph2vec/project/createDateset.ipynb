{
 "cells": [
  {
   "cell_type": "code",
   "execution_count": 82,
   "metadata": {},
   "outputs": [],
   "source": [
    "import pandas as pd\n",
    "import csv\n",
    "import json\n",
    "import numpy as np\n",
    "from tqdm import tqdm"
   ]
  },
  {
   "cell_type": "code",
   "execution_count": 64,
   "metadata": {},
   "outputs": [],
   "source": [
    "USER_VEC_PATH = './features/user_finish.csv'\n",
    "ITEM_VEC_PATH = \"./features/item_finish.csv\"\n",
    "SAVING_PATH   = \"./dataset.csv\""
   ]
  },
  {
   "cell_type": "code",
   "execution_count": 65,
   "metadata": {},
   "outputs": [
    {
     "name": "stdout",
     "output_type": "stream",
     "text": [
      "(67386, 129)\n",
      "67386\n"
     ]
    },
    {
     "name": "stderr",
     "output_type": "stream",
     "text": [
      "/home/torres/anaconda3/lib/python3.6/site-packages/ipykernel_launcher.py:5: DeprecationWarning: \n",
      ".ix is deprecated. Please use\n",
      ".loc for label based indexing or\n",
      ".iloc for positional indexing\n",
      "\n",
      "See the documentation here:\n",
      "http://pandas.pydata.org/pandas-docs/stable/indexing.html#ix-indexer-is-deprecated\n",
      "  \"\"\"\n"
     ]
    }
   ],
   "source": [
    "    user_vec = pd.read_csv(USER_VEC_PATH)\n",
    "    print(user_vec.shape)\n",
    "\n",
    "    user_vec_list = []\n",
    "    for idx in user_vec.ix[:,0]:\n",
    "        user_vec_list.append(idx)\n",
    "\n",
    "    print(len(user_vec_list))"
   ]
  },
  {
   "cell_type": "code",
   "execution_count": 66,
   "metadata": {},
   "outputs": [
    {
     "name": "stdout",
     "output_type": "stream",
     "text": [
      "(226541, 129)\n"
     ]
    },
    {
     "name": "stderr",
     "output_type": "stream",
     "text": [
      "/home/torres/anaconda3/lib/python3.6/site-packages/ipykernel_launcher.py:5: DeprecationWarning: \n",
      ".ix is deprecated. Please use\n",
      ".loc for label based indexing or\n",
      ".iloc for positional indexing\n",
      "\n",
      "See the documentation here:\n",
      "http://pandas.pydata.org/pandas-docs/stable/indexing.html#ix-indexer-is-deprecated\n",
      "  \"\"\"\n"
     ]
    }
   ],
   "source": [
    "item_vec = pd.read_csv(ITEM_VEC_PATH)\n",
    "print(item_vec.shape)\n",
    "\n",
    "item_vec_list = []\n",
    "for idx in item_vec.ix[:,0]:\n",
    "    item_vec_list.append(idx)"
   ]
  },
  {
   "cell_type": "code",
   "execution_count": 96,
   "metadata": {},
   "outputs": [
    {
     "data": {
      "text/plain": [
       "1433"
      ]
     },
     "execution_count": 96,
     "metadata": {},
     "output_type": "execute_result"
    }
   ],
   "source": [
    "out = open(SAVING_PATH,'w', newline='')\n",
    "csv_write = csv.writer(out)\n",
    "\n",
    "rows = []\n",
    "for i in range(128*2):\n",
    "    temp_str = \"x_\" + str(i)\n",
    "    rows.append(temp_str)\n",
    "    \n",
    "    \n",
    "rows.append(\"label\")\n",
    "# print(rows)\n",
    "csv_write.writerow(rows)"
   ]
  },
  {
   "cell_type": "code",
   "execution_count": 94,
   "metadata": {},
   "outputs": [],
   "source": [
    "def saveDateToLocal(user_vec, item_vec, label):\n",
    "    # check dimension\n",
    "    if len(user_vec)!= 128 or len(item_vec)!= 128:\n",
    "        print(\"dimension error!\")\n",
    "        return \n",
    "    \n",
    "    # concat user_vec and item_vec\n",
    "    data = user_vec + item_vec\n",
    "    data.append(label)\n",
    "#     print(len(data))\n",
    "    # save to dataset.csv\n",
    "    csv_write.writerow(data)"
   ]
  },
  {
   "cell_type": "code",
   "execution_count": 68,
   "metadata": {},
   "outputs": [],
   "source": []
  },
  {
   "cell_type": "code",
   "execution_count": 78,
   "metadata": {},
   "outputs": [],
   "source": [
    "def getItemVec(item_index):\n",
    "    item_vec_dataFrame = item_vec.ix[item_index,1:]\n",
    "    itemVec = []\n",
    "    for i in range(128):\n",
    "        index = \"x_\" + str(i)\n",
    "        itemVec.append(round(item_vec_dataFrame[index],4))\n",
    "    \n",
    "    return itemVec"
   ]
  },
  {
   "cell_type": "code",
   "execution_count": 69,
   "metadata": {},
   "outputs": [],
   "source": [
    "def getUserVec(uid_index):\n",
    "    \n",
    "    user_vec_dataFrame = user_vec.ix[uid_index,1:]\n",
    "    userVec = []\n",
    "    for i in range(128):\n",
    "        index = \"x_\" + str(i)\n",
    "        userVec.append(round(user_vec_dataFrame[index],4))\n",
    "    \n",
    "    return userVec"
   ]
  },
  {
   "cell_type": "code",
   "execution_count": 71,
   "metadata": {},
   "outputs": [],
   "source": [
    "'''\n",
    "create data set through users.json\n",
    "'''\n",
    "with open(\"./users.json\",'r') as load_f:\n",
    "    users_info = json.load(load_f)\n",
    "for key in users_info.keys():\n",
    "    users_info[key].pop('like')\n",
    "    users_info[key].pop('dislike')"
   ]
  },
  {
   "cell_type": "code",
   "execution_count": 97,
   "metadata": {},
   "outputs": [
    {
     "name": "stderr",
     "output_type": "stream",
     "text": [
      "\n",
      "\n",
      "\n",
      "\n",
      "\n",
      "\n",
      "\n",
      "  0%|          | 0/70711 [00:00<?, ?it/s]\u001b[A\u001b[A\u001b[A\u001b[A\u001b[A\u001b[A\u001b[A\n",
      "\n",
      "\n",
      "\n",
      "\n",
      "\n",
      "\n",
      "  0%|          | 1/70711 [00:02<54:18:17,  2.76s/it]\u001b[A\u001b[A\u001b[A\u001b[A\u001b[A\u001b[A\u001b[A\n",
      "\n",
      "\n",
      "\n",
      "\n",
      "\n",
      "\n",
      "  0%|          | 2/70711 [00:04<48:21:53,  2.46s/it]\u001b[A\u001b[A\u001b[A\u001b[A\u001b[A\u001b[A\u001b[A\n",
      "\n",
      "\n",
      "\n",
      "\n",
      "\n",
      "\n",
      "  0%|          | 3/70711 [00:08<60:03:03,  3.06s/it]\u001b[A\u001b[A\u001b[A\u001b[A\u001b[A\u001b[A\u001b[A\n",
      "\n",
      "\n",
      "\n",
      "\n",
      "\n",
      "\n",
      "  0%|          | 4/70711 [00:13<68:23:09,  3.48s/it]\u001b[A\u001b[A\u001b[A\u001b[A\u001b[A\u001b[A\u001b[A\n",
      "\n",
      "\n",
      "\n",
      "\n",
      "\n",
      "\n",
      "  0%|          | 5/70711 [00:21<93:20:28,  4.75s/it]\u001b[A\u001b[A\u001b[A\u001b[A\u001b[A\u001b[A\u001b[A\n",
      "\n",
      "\n",
      "\n",
      "\n",
      "\n",
      "\n",
      "  0%|          | 6/70711 [00:21<69:02:23,  3.52s/it]\u001b[A\u001b[A\u001b[A\u001b[A\u001b[A\u001b[A\u001b[A\n",
      "\n",
      "\n",
      "\n",
      "\n",
      "\n",
      "\n",
      "  0%|          | 7/70711 [00:24<66:16:55,  3.37s/it]\u001b[A\u001b[A\u001b[A\u001b[A\u001b[A\u001b[A\u001b[A\n",
      "\n",
      "\n",
      "\n",
      "\n",
      "\n",
      "\n",
      "  0%|          | 8/70711 [00:28<68:05:50,  3.47s/it]\u001b[A\u001b[A\u001b[A\u001b[A\u001b[A\u001b[A\u001b[A\n",
      "\n",
      "\n",
      "\n",
      "\n",
      "\n",
      "\n",
      "  0%|          | 9/70711 [00:36<93:50:21,  4.78s/it]\u001b[A\u001b[A\u001b[A\u001b[A\u001b[A\u001b[A\u001b[A\n",
      "\n",
      "\n",
      "\n",
      "\n",
      "\n",
      "\n",
      "  0%|          | 10/70711 [00:36<69:00:02,  3.51s/it]\u001b[A\u001b[A\u001b[A\u001b[A\u001b[A\u001b[A\u001b[A\n",
      "\n",
      "\n",
      "\n",
      "\n",
      "\n",
      "\n",
      "  0%|          | 11/70711 [00:45<98:59:23,  5.04s/it]\u001b[A\u001b[A\u001b[A\u001b[A\u001b[A\u001b[A\u001b[A\n",
      "\n",
      "\n",
      "\n",
      "\n",
      "\n",
      "\n",
      "  0%|          | 12/70711 [00:47<78:53:18,  4.02s/it]\u001b[A\u001b[A\u001b[A\u001b[A\u001b[A\u001b[A\u001b[A"
     ]
    },
    {
     "ename": "KeyboardInterrupt",
     "evalue": "",
     "output_type": "error",
     "traceback": [
      "\u001b[0;31m---------------------------------------------------------------------------\u001b[0m",
      "\u001b[0;31mKeyboardInterrupt\u001b[0m                         Traceback (most recent call last)",
      "\u001b[0;32m<ipython-input-97-8abda24ac33c>\u001b[0m in \u001b[0;36m<module>\u001b[0;34m()\u001b[0m\n\u001b[1;32m     24\u001b[0m         \u001b[0;32mif\u001b[0m \u001b[0mint\u001b[0m\u001b[0;34m(\u001b[0m\u001b[0mitem_id\u001b[0m\u001b[0;34m)\u001b[0m \u001b[0;32mnot\u001b[0m \u001b[0;32min\u001b[0m \u001b[0mitem_vec_list\u001b[0m\u001b[0;34m:\u001b[0m\u001b[0;34m\u001b[0m\u001b[0m\n\u001b[1;32m     25\u001b[0m             \u001b[0;32mcontinue\u001b[0m\u001b[0;34m\u001b[0m\u001b[0m\n\u001b[0;32m---> 26\u001b[0;31m         \u001b[0mitem_index\u001b[0m \u001b[0;34m=\u001b[0m \u001b[0mitem_vec_list\u001b[0m\u001b[0;34m.\u001b[0m\u001b[0mindex\u001b[0m\u001b[0;34m(\u001b[0m\u001b[0mint\u001b[0m\u001b[0;34m(\u001b[0m\u001b[0mitem_id\u001b[0m\u001b[0;34m)\u001b[0m\u001b[0;34m)\u001b[0m\u001b[0;34m\u001b[0m\u001b[0m\n\u001b[0m\u001b[1;32m     27\u001b[0m         \u001b[0mtemp_item_vec\u001b[0m \u001b[0;34m=\u001b[0m \u001b[0mgetItemVec\u001b[0m\u001b[0;34m(\u001b[0m\u001b[0mitem_index\u001b[0m\u001b[0;34m)\u001b[0m\u001b[0;34m\u001b[0m\u001b[0m\n\u001b[1;32m     28\u001b[0m         \u001b[0msaveDateToLocal\u001b[0m\u001b[0;34m(\u001b[0m\u001b[0mtemp_user_vec\u001b[0m\u001b[0;34m,\u001b[0m \u001b[0mtemp_item_vec\u001b[0m\u001b[0;34m,\u001b[0m \u001b[0;36m0\u001b[0m\u001b[0;34m)\u001b[0m\u001b[0;34m\u001b[0m\u001b[0m\n",
      "\u001b[0;31mKeyboardInterrupt\u001b[0m: "
     ]
    }
   ],
   "source": [
    "i = 0\n",
    "for uid in tqdm(users_info.keys()):\n",
    "    id_user = users_info.get(str(uid),{})\n",
    "    finish_info   =  np.array(id_user['finish'])\n",
    "    unfinish_info =  np.array(id_user['unfinish'])\n",
    "    \n",
    "    # get user_vec through uid\n",
    "    if int(uid) not in user_vec_list:\n",
    "        continue\n",
    "        \n",
    "    uid_index = user_vec_list.index(int(uid))\n",
    "    temp_user_vec = getUserVec(uid_index)\n",
    "#     print(uid_index,temp_user_vec)\n",
    "    \n",
    "    for item_id in finish_info:\n",
    "        if int(item_id) not in item_vec_list:\n",
    "            continue\n",
    "        item_index = item_vec_list.index(int(item_id))\n",
    "        temp_item_vec = getItemVec(item_index)\n",
    "#         print(temp_item_vec)\n",
    "        saveDateToLocal(temp_user_vec, temp_item_vec, 1)\n",
    "\n",
    "    for item_id in unfinish_info:\n",
    "        if int(item_id) not in item_vec_list:\n",
    "            continue\n",
    "        item_index = item_vec_list.index(int(item_id))\n",
    "        temp_item_vec = getItemVec(item_index)\n",
    "        saveDateToLocal(temp_user_vec, temp_item_vec, 0)"
   ]
  },
  {
   "cell_type": "code",
   "execution_count": 58,
   "metadata": {},
   "outputs": [
    {
     "name": "stdout",
     "output_type": "stream",
     "text": [
      "[0]\n"
     ]
    }
   ],
   "source": [
    "print(user_vec_list[:1])"
   ]
  },
  {
   "cell_type": "code",
   "execution_count": null,
   "metadata": {},
   "outputs": [],
   "source": []
  }
 ],
 "metadata": {
  "kernelspec": {
   "display_name": "Python 3",
   "language": "python",
   "name": "python3"
  },
  "language_info": {
   "codemirror_mode": {
    "name": "ipython",
    "version": 3
   },
   "file_extension": ".py",
   "mimetype": "text/x-python",
   "name": "python",
   "nbconvert_exporter": "python",
   "pygments_lexer": "ipython3",
   "version": "3.6.4"
  }
 },
 "nbformat": 4,
 "nbformat_minor": 2
}
